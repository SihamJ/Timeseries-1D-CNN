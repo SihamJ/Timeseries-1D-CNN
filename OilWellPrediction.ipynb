{
 "cells": [
  {
   "cell_type": "code",
   "execution_count": 52,
   "metadata": {},
   "outputs": [],
   "source": [
    "import pandas as pd\n",
    "import sklearn as sk\n",
    "import numpy as np\n",
    "import matplotlib as mptlib\n",
    "import keras as ks\n",
    "import tensorflow as tf\n",
    "import tensorflow_datasets as tfds\n",
    "from keras.models import Sequential\n",
    "from keras.layers import Dense\n",
    "from keras.layers import Flatten\n",
    "from keras.layers import Dropout\n",
    "from keras.layers.convolutional import Conv1D\n",
    "from keras.layers.convolutional import MaxPooling1D\n",
    "import os\n",
    "\n",
    "np.random.seed(42) # set the seed for reproducibility"
   ]
  },
  {
   "cell_type": "code",
   "execution_count": 53,
   "metadata": {},
   "outputs": [
    {
     "data": {
      "text/html": [
       "<div>\n",
       "<style scoped>\n",
       "    .dataframe tbody tr th:only-of-type {\n",
       "        vertical-align: middle;\n",
       "    }\n",
       "\n",
       "    .dataframe tbody tr th {\n",
       "        vertical-align: top;\n",
       "    }\n",
       "\n",
       "    .dataframe thead th {\n",
       "        text-align: right;\n",
       "    }\n",
       "</style>\n",
       "<table border=\"1\" class=\"dataframe\">\n",
       "  <thead>\n",
       "    <tr style=\"text-align: right;\">\n",
       "      <th></th>\n",
       "      <th>timestamp</th>\n",
       "      <th>P-PDG</th>\n",
       "      <th>P-TPT</th>\n",
       "      <th>T-TPT</th>\n",
       "      <th>P-MON-CKP</th>\n",
       "      <th>T-JUS-CKP</th>\n",
       "      <th>P-JUS-CKGL</th>\n",
       "      <th>T-JUS-CKGL</th>\n",
       "      <th>QGL</th>\n",
       "      <th>class</th>\n",
       "    </tr>\n",
       "  </thead>\n",
       "  <tbody>\n",
       "    <tr>\n",
       "      <th>0</th>\n",
       "      <td>2018-05-17 22:56:06.000000</td>\n",
       "      <td>27897490.0</td>\n",
       "      <td>19824230.0</td>\n",
       "      <td>125.6859</td>\n",
       "      <td>4059666.0</td>\n",
       "      <td>97.55283</td>\n",
       "      <td>NaN</td>\n",
       "      <td>NaN</td>\n",
       "      <td>NaN</td>\n",
       "      <td>0</td>\n",
       "    </tr>\n",
       "    <tr>\n",
       "      <th>1</th>\n",
       "      <td>2018-05-17 22:56:07.000000</td>\n",
       "      <td>27897450.0</td>\n",
       "      <td>19824230.0</td>\n",
       "      <td>125.6859</td>\n",
       "      <td>4059666.0</td>\n",
       "      <td>97.55283</td>\n",
       "      <td>NaN</td>\n",
       "      <td>NaN</td>\n",
       "      <td>NaN</td>\n",
       "      <td>0</td>\n",
       "    </tr>\n",
       "    <tr>\n",
       "      <th>2</th>\n",
       "      <td>2018-05-17 22:56:08.000000</td>\n",
       "      <td>27897360.0</td>\n",
       "      <td>19824230.0</td>\n",
       "      <td>125.6859</td>\n",
       "      <td>4059666.0</td>\n",
       "      <td>97.55283</td>\n",
       "      <td>NaN</td>\n",
       "      <td>NaN</td>\n",
       "      <td>NaN</td>\n",
       "      <td>0</td>\n",
       "    </tr>\n",
       "    <tr>\n",
       "      <th>3</th>\n",
       "      <td>2018-05-17 22:56:09.000000</td>\n",
       "      <td>27897430.0</td>\n",
       "      <td>19824230.0</td>\n",
       "      <td>125.6859</td>\n",
       "      <td>4059666.0</td>\n",
       "      <td>97.55282</td>\n",
       "      <td>NaN</td>\n",
       "      <td>NaN</td>\n",
       "      <td>NaN</td>\n",
       "      <td>0</td>\n",
       "    </tr>\n",
       "    <tr>\n",
       "      <th>4</th>\n",
       "      <td>2018-05-17 22:56:10.000000</td>\n",
       "      <td>27897500.0</td>\n",
       "      <td>19824230.0</td>\n",
       "      <td>125.6859</td>\n",
       "      <td>4059666.0</td>\n",
       "      <td>97.55282</td>\n",
       "      <td>NaN</td>\n",
       "      <td>NaN</td>\n",
       "      <td>NaN</td>\n",
       "      <td>0</td>\n",
       "    </tr>\n",
       "  </tbody>\n",
       "</table>\n",
       "</div>"
      ],
      "text/plain": [
       "                    timestamp       P-PDG       P-TPT     T-TPT  P-MON-CKP  \\\n",
       "0  2018-05-17 22:56:06.000000  27897490.0  19824230.0  125.6859  4059666.0   \n",
       "1  2018-05-17 22:56:07.000000  27897450.0  19824230.0  125.6859  4059666.0   \n",
       "2  2018-05-17 22:56:08.000000  27897360.0  19824230.0  125.6859  4059666.0   \n",
       "3  2018-05-17 22:56:09.000000  27897430.0  19824230.0  125.6859  4059666.0   \n",
       "4  2018-05-17 22:56:10.000000  27897500.0  19824230.0  125.6859  4059666.0   \n",
       "\n",
       "   T-JUS-CKP  P-JUS-CKGL  T-JUS-CKGL  QGL  class  \n",
       "0   97.55283         NaN         NaN  NaN      0  \n",
       "1   97.55283         NaN         NaN  NaN      0  \n",
       "2   97.55283         NaN         NaN  NaN      0  \n",
       "3   97.55282         NaN         NaN  NaN      0  \n",
       "4   97.55282         NaN         NaN  NaN      0  "
      ]
     },
     "execution_count": 53,
     "metadata": {},
     "output_type": "execute_result"
    }
   ],
   "source": [
    "root = \"./\"\n",
    "df = pd.read_csv(root + \"/oil_wells_data.csv\")"
   ]
  },
  {
   "cell_type": "code",
   "execution_count": 54,
   "metadata": {},
   "outputs": [],
   "source": [
    "#we drop the timestamps and the empty columns\n",
    "clean_df = df.drop({'timestamp','P-JUS-CKGL','T-JUS-CKGL','QGL'}, axis=1)\n",
    "\n",
    "#checking for any Nan value\n",
    "array_sum = np.sum(clean_df)\n",
    "array_has_nan = np.isnan(clean_df)\n",
    "for i in array_has_nan:\n",
    "    if i==True:\n",
    "        print(\"True\")"
   ]
  },
  {
   "cell_type": "code",
   "execution_count": 55,
   "metadata": {},
   "outputs": [],
   "source": [
    "x = clean_df.drop({'class'}, axis = 1)\n",
    "y = clean_df['class']\n",
    "\n",
    "#we drop the first 25 lines because each timeserie will have the label of the last observation (25th) and our stride is one\n",
    "y = y.drop({i for i in range(24)}, axis=0)\n",
    "#resetting the index\n",
    "y = y.reset_index()\n",
    "# to drop the index columns\n",
    "y = y['class']\n",
    "\n",
    "# we apply a sliding window of size 2 and stride 1 on our dataset to generate multiple instances of timeseries.\n",
    "timeseries_x = np.lib.stride_tricks.sliding_window_view(x, window_shape=(25,5))\n",
    "timeseries_x = np.reshape(timeseries_x, (timeseries_x.shape[0], timeseries_x.shape[2]*5 ))\n",
    "\n",
    "timeseries_x = pd.DataFrame(timeseries_x)\n",
    "\n",
    "#we stick them back together:\n",
    "timeseries = pd.concat([timeseries_x, y], axis=1, join='inner')\n"
   ]
  },
  {
   "cell_type": "code",
   "execution_count": 56,
   "metadata": {},
   "outputs": [],
   "source": [
    "from sklearn.model_selection import train_test_split\n",
    "\n",
    "timeseries_train, timeseries_test = train_test_split(timeseries, test_size=0.25, random_state=42)\n"
   ]
  },
  {
   "cell_type": "code",
   "execution_count": 57,
   "metadata": {},
   "outputs": [],
   "source": [
    "#standardization\n",
    "from sklearn.preprocessing import StandardScaler\n",
    "\n",
    "def standardize_df(data):\n",
    "\n",
    "    scaler = StandardScaler()\n",
    "    #transforming the df to a numpy array\n",
    "    df = data.values\n",
    "    #back to pandas dataframe\n",
    "    df_std = pd.DataFrame(scaler.fit_transform(df),\n",
    "                            columns=data.columns, index=data.index)\n",
    "    return df_std\n",
    "\n",
    "\n",
    "# we drop the class labels\n",
    "x_train = timeseries_train.drop({'class'}, axis=1)\n",
    "x_test = timeseries_test.drop({'class'}, axis =1)\n",
    "\n",
    "x_train = standardize_df(x_train)\n",
    "x_test = standardize_df(x_test)\n",
    "\n",
    "x_train = x_train.values\n",
    "x_train = np.reshape(x_train, (x_train.shape[0], 25, 5 ))\n",
    "x_test = x_test.values\n",
    "x_test = np.reshape(x_test, (x_test.shape[0], 25, 5 ) )\n"
   ]
  },
  {
   "cell_type": "code",
   "execution_count": 58,
   "metadata": {},
   "outputs": [],
   "source": [
    "y_train = timeseries_train['class']\n",
    "y_train = pd.get_dummies(y_train)\n",
    "y_test = timeseries_test['class']\n",
    "y_test = pd.get_dummies(y_test)\n"
   ]
  },
  {
   "cell_type": "code",
   "execution_count": 59,
   "metadata": {},
   "outputs": [],
   "source": [
    "# Implement the convolutional layer\n",
    "\n",
    "conv = tf.keras.layers.Conv1D(filters=8, kernel_size=2, strides=1,\n",
    "                              padding='same', activation='relu')\n",
    "\n",
    "#maxpool = tf.keras.layers.MaxPooling1D(1)\n",
    "avepool = tf.keras.layers.AveragePooling1D(1)\n",
    "\n",
    "verbose, epochs, batch_size = 0, 10, 32\n",
    "n_timesteps, n_features, n_outputs = 25, 5, 3\n",
    "model = Sequential()\n",
    "model.add(Conv1D(filters=8, kernel_size=1, strides = 1, padding = 'same', activation='relu', input_shape=(n_timesteps,n_features)))\n",
    "\n",
    "model.add(Dropout(0.5))\n",
    "model.add(MaxPooling1D(pool_size=1))\n",
    "model.add(Flatten())\n",
    "model.add(Dense(100, activation='relu'))\n",
    "model.add(Dense(n_outputs, activation='softmax'))\n",
    "model.compile(loss='categorical_crossentropy', optimizer='adam', metrics=['accuracy'])\n",
    "# fit network\n",
    "model.fit(x_train, y_train, epochs=epochs, batch_size=batch_size, verbose=verbose)\n",
    "# evaluate model\n",
    "_, accuracy = model.evaluate(x_test, y_test, batch_size=batch_size, verbose=0)\n"
   ]
  },
  {
   "cell_type": "code",
   "execution_count": null,
   "metadata": {},
   "outputs": [
    {
     "name": "stdout",
     "output_type": "stream",
     "text": [
      "0.9552194476127625\n"
     ]
    }
   ],
   "source": [
    "print(accuracy)\n"
   ]
  }
 ],
 "metadata": {
  "interpreter": {
   "hash": "17bbb4d59a646ede5d4409da112e8d7c4c703c360e73d35eb1cf7a27bc242575"
  },
  "kernelspec": {
   "display_name": "Python 3.9.5 64-bit ('base': conda)",
   "name": "python3"
  },
  "language_info": {
   "codemirror_mode": {
    "name": "ipython",
    "version": 3
   },
   "file_extension": ".py",
   "mimetype": "text/x-python",
   "name": "python",
   "nbconvert_exporter": "python",
   "pygments_lexer": "ipython3",
   "version": "3.9.11"
  },
  "orig_nbformat": 4
 },
 "nbformat": 4,
 "nbformat_minor": 2
}
